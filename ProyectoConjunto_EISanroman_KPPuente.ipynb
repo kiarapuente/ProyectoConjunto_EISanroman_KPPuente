{
 "cells": [
  {
   "cell_type": "markdown",
   "metadata": {},
   "source": [
    "<img style=\"float: left; margin: 30px 15px 15px 15px;\" src=\"https://pngimage.net/wp-content/uploads/2018/06/logo-iteso-png-5.png\" width=\"300\" height=\"500\" /> \n",
    "    \n",
    "    \n",
    "### <font color='navy'> Simulación de procesos financieros. \n",
    "\n",
    "**Nombres:** Esther Itzel Sanromán Santana y Kiara Paola Puente Rosales.\n",
    "\n",
    "**Fecha:** 30 de enero del 2020.\n",
    "\n",
    "**Expediente** : IF 715635 y IF 706674.\n",
    "**Profesor:** Oscar David Jaramillo Zuluaga.\n",
    "\n",
    "# Tarea 1: Clase 2"
   ]
  },
  {
   "cell_type": "markdown",
   "metadata": {},
   "source": [
    "##### Estudiante 1: Itzel Sanromán creó el repositorio y el github es: Itzy17"
   ]
  },
  {
   "cell_type": "markdown",
   "metadata": {},
   "source": [
    "## <font color='purple'> Estudiante 1: Itzel Sanromán\n",
    "## <font color='purple'> Estudiante 2: Kiara Puente"
   ]
  },
  {
   "cell_type": "markdown",
   "metadata": {},
   "source": [
    "#### <font color='green'> Estudiante 1"
   ]
  },
  {
   "cell_type": "markdown",
   "metadata": {},
   "source": [
    "# <font color=\"dark purple\">_Expectativas del curso_"
   ]
  },
  {
   "cell_type": "markdown",
   "metadata": {},
   "source": [
    "+ Reforzar la programación\n",
    "+ Aprender más funciones de programción y ser más ágil\n",
    "+ Dominar usa de gitkraken y github\n",
    "+ Aprender nuevos conceptos y que no se me dificulte mucho\n",
    "+ Que sea una materia de gran uso y que después la pueda aplicar "
   ]
  },
  {
   "cell_type": "markdown",
   "metadata": {},
   "source": [
    "<img style=\"center\" src=\"https://www.redeszone.net/app/uploads/2018/07/C%C3%B3digo-Python.jpg\" width=\"450px\" height=\"400px\" alt=\"Python\" />"
   ]
  },
  {
   "cell_type": "markdown",
   "metadata": {},
   "source": [
    "# <font color=\"orange\"> Python is becoming the world´s most popular coding language\n",
    "    \n",
    "   **_Este texto habla sobre como es que Python creció._**\n",
    "   \n",
    "   Python, el lenguaje de programación, fue creado por Guido van Rossum en 1989, el cual, 3 décadas después ha crecido de manera notable. En los últimos 12 meses las busquedas en google de python han sido más recurrentes que buscar a Kim Kardashian, famosa de TV. Desde 2010 se triplicaron las busquedas, lo que para otros programas han estado iguales o bajando.\n",
    "   \n",
    "   Algunas de las ventajas que tiene pyhton es la flexibilidad y facilidad con la que se utiliza, es de fácil sintaxis y tiene estructurado los espacios, lo que lo hace más entendible.\n",
    "   \n",
    "   Los amantes de python llamados pythonistas crearon 145 paquetes de software para tener predeterminado el desarrollo de juegos hasta astronomía. Gracias a esto la Agencia Central de Inteligencia lo ha usado para hackear, Google para rastrear páginas, Pixar para producir películas, etc.\n",
    "   \n",
    "   Con tanto crecimiento y tantas aplicaciones, pyhton podría convertirse en la lengua de codificación, lo que provocaría que otros programas se convirtieran en obsoletos. Según Grady Booch, científico de IBM, es difícil que eso pase, ya que python no puede reemplazar a C y C++ porque estos programas son de \"bajo nivel\", tampoco a Java ya que este se utiliza para crear aplicaciones complicadas, ni a JavaScript, este impulsa las páginas web.\n"
   ]
  },
  {
   "cell_type": "markdown",
   "metadata": {},
   "source": [
    "<img style=\"center\" src=\"https://almend12.files.wordpress.com/2010/05/lenguaje-programacion-popular.jpg\" width=\"400px\" height=\"320px\" alt=\"\" />\n",
    "<img style=\"center\" src=\"data:image/jpeg;base64,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\" width=\"400px\" height=\"320px\" alt=\"\" />"
   ]
  },
  {
   "cell_type": "markdown",
   "metadata": {},
   "source": [
    "|              | Lunes                     | Martes                 | Miércoles        | Jueves                 | Viernes               |\n",
    "|--------------|---------------------------|------------------------|------------------|------------------------|-----------------------|\n",
    "| 7:00 - 9:00  | Analytics de las finanzas | Ánalisis de riesgo     |                  | Analytics              | Ánalisis de riesgo    |\n",
    "| 2:00 - 4:00  | Entrenamiento             | Entrenamiento          | Entrenamiento    | Entrenamiento          | Entrenamiento         |\n",
    "| 4:00 - 6:00  |                           |                        |                  |                        | Proyectos de gobierno |\n",
    "| 6:00 - 8:00  | Teoría de juegos          | Simulación de procesos | Teoría de juegos | Simulación de procesos |                       |\n",
    "| 8:00 - 10:00 | Astronomía                | SAP                    | Astronomía       | SAP                    |                       |"
   ]
  },
  {
   "cell_type": "markdown",
   "metadata": {},
   "source": [
    "#### <font color='green'> Estudiante 2"
   ]
  },
  {
   "cell_type": "markdown",
   "metadata": {},
   "source": [
    "## <font color=\"blue\"> El artículo de El Economista titulado \"Python has brought computer programming to a vast new audience\".**"
   ]
  },
  {
   "cell_type": "markdown",
   "metadata": {},
   "source": [
    "https://www.economist.com/science-and-technology/2018/07/19/python-has-brought-computer-programming-to-a-vast-new-audience"
   ]
  },
  {
   "cell_type": "markdown",
   "metadata": {},
   "source": [
    "Este artículo nos habla sobre Guido van Rossum, el Aleman que creo como proyrcto de navidad, este nuevo lenguaje que el queria personalizar a como el creia era la mejor opciòn."
   ]
  },
  {
   "cell_type": "markdown",
   "metadata": {},
   "source": [
    "<img style=\"float: right; margin: 0px 0px 15px 15px;\" src=\"http://vitality-limited.com/wp-content/uploads/2015/01/Dollarphotoclub_50775754.jpg\" width=\"400px\" height=\"150px\" />"
   ]
  },
  {
   "cell_type": "markdown",
   "metadata": {},
   "source": [
    "Algunos de los beneficios son:\n",
    "+ Primero que fuera facil de leer.\n",
    "+ Tambien que deje crear nuestros propios paquetes de programacion\n",
    "+ Despues el queria que fuera corto unico \n",
    "+ Muy completo"
   ]
  },
  {
   "cell_type": "markdown",
   "metadata": {},
   "source": [
    "|              | Lunes                     | Martes                 | Miércoles        | Jueves                 | Viernes               |\n",
    "|--------------|---------------------------|------------------------|------------------|------------------------|-----------------------|\n",
    "| 7:00 - 9:00  | Analytics de las finanzas | Ánalisis de riesgo     |                  | Analytics              | Ánalisis de riesgo    |\n",
    "| 4:00 - 6:00  |                           |                        |                  |                        | Proyectos de gobierno |\n",
    "| 6:00 - 8:00  | Teoría de juegos          | Simulación de procesos | Teoría de juegos | Simulación de procesos |                       |\n",
    "| 8:00 - 10:00 | Entrenamiento             | Entrenamiento          | Entrenamiento    | Entrenamiento        |  Entrenamiento                     |"
   ]
  },
  {
   "cell_type": "markdown",
   "metadata": {},
   "source": [
    "#### <font color='green'> Estudiante 1"
   ]
  },
  {
   "cell_type": "markdown",
   "metadata": {},
   "source": [
    "#### <font color='navy'> Transcribir integrales"
   ]
  },
  {
   "cell_type": "markdown",
   "metadata": {},
   "source": [
    "1. La fórmula el rectángulo se obtiene al interpolar a _f(x)_ por medio del polinomio constante $ p_0(x) = f(\\displaystyle{a+b\\over2}). $\n",
    "$$\n",
    "\\int_ {a}^{b} f(x) dx \\approx (b - a)f(\\displaystyle{a+b\\over2}) = R(f)\n",
    "$$"
   ]
  },
  {
   "cell_type": "markdown",
   "metadata": {},
   "source": [
    "2. La fórmula del trapecio se obtiene al interpolar a _f_ por medio de un polinomio lineal $ p_1(x) = \\alpha x + \\beta $ que satisfaga $ f(a) = p_1(a), f(b) = p_1(b). $\n",
    "Determinar el polinomio lineal es equivalente a resolver un sistema de ecuaciones lineales para $\\alpha$ y $\\beta$ cuya solución es \n",
    "\n",
    "$$\n",
    "\\alpha = \\displaystyle{f(b)-f(a)\\over b-a} \\quad \\beta = \\displaystyle{f(b)a-f(a)b\\over b-a}\n",
    "$$"
   ]
  },
  {
   "cell_type": "markdown",
   "metadata": {},
   "source": [
    "Al integrar $ p_1(x) $ en el intervalo $[a,b]$ se obtiene la regla del trapecio con $ h = b - a $\n",
    "$$\n",
    "\\int_ {a}^{b} f(x) dx \\approx \\int_ {a}^{b} p_1(x) dx = \\displaystyle{h\\over2}(f(a) + f(b)) = T(f)\n",
    "$$"
   ]
  },
  {
   "cell_type": "markdown",
   "metadata": {},
   "source": [
    "El error esta dado por\n",
    "$$\n",
    "\\int_ {a}^{b} f(x) dx - T(f) = -\\displaystyle{h^3\\over12}(f''(n)), a<n<b\n",
    "$$"
   ]
  },
  {
   "cell_type": "markdown",
   "metadata": {},
   "source": [
    "3. Por último al integrar el polinomio cuadrático que interpola a $f$ en $x = a, x$ = $\\displaystyle{a+b\\over2},$ y $x = b$ se obtiene la regla de Simpson con $h = \\displaystyle{b-a\\over2}$"
   ]
  },
  {
   "cell_type": "markdown",
   "metadata": {},
   "source": [
    "$$\n",
    "    \\int_ {a}^{b} f(x) dx \\approx \\int_ {a}^{b} p_2(x) dx = \\displaystyle{h\\over3}(f(a) + 4f(a + b) + f(b)) = S(f)\n",
    "$$"
   ]
  },
  {
   "cell_type": "markdown",
   "metadata": {},
   "source": [
    "El erro que se comete al usar Simpson es \n",
    "$$\n",
    "\\int_ {a}^{b} f(x) dx - S(f) = \\displaystyle{h^5\\over90}(f^{(4)}(n)), a<n<b\n",
    "$$"
   ]
  },
  {
   "cell_type": "markdown",
   "metadata": {},
   "source": [
    "#### <font color='green'> Estudiante 2"
   ]
  },
  {
   "cell_type": "markdown",
   "metadata": {},
   "source": [
    "1. La fórmula el rectángulo se obtiene al interpolar a f(x) por medio del polinomio constante $ p_0(x) = f(\\displaystyle{a+b\\over2}). $\n",
    "$$\n",
    "\\int_ {a}^{b} f(x) dx \\approx (b - a)f(\\displaystyle{a+b\\over2}) = R(f)\n",
    "$$"
   ]
  },
  {
   "cell_type": "markdown",
   "metadata": {},
   "source": [
    "2. La fórmula del trapecio se obtiene al interpolar a f por medio de un polinomio lineal $ p_1(x) = \\alpha x + \\beta $ que satisfaga $ f(a) = p_1(a), f(b) = p_1(b). $\n",
    "Determinar el polinomio lineal es equivalente a resolver un sistema de ecuaciones lineales para $\\alpha$ y $\\beta$ cuya solución es \n",
    "\n",
    "$$\n",
    "\\alpha = \\displaystyle{f(b)-f(a)\\over b-a} \\quad \\beta = \\displaystyle{f(b)a-f(a)b\\over b-a}\n",
    "$$"
   ]
  },
  {
   "cell_type": "markdown",
   "metadata": {},
   "source": [
    "Al integrar $ p_1(x) $ en el intervalo $[a,b]$ se obtiene la regla del trapecio con $ h = b - a $\n",
    "$$\n",
    "\\int_ {a}^{b} f(x) dx \\approx \\int_ {a}^{b} p_1(x) dx = \\displaystyle{h\\over2}(f(a) + f(b)) = T(f)\n",
    "$$"
   ]
  },
  {
   "cell_type": "markdown",
   "metadata": {},
   "source": [
    "El error esta dado por\n",
    "$$\n",
    "\\int_ {a}^{b} f(x) dx - T(f) = -\\displaystyle{h^3\\over12}(f''(n)), a<n<b\n",
    "$$"
   ]
  },
  {
   "cell_type": "markdown",
   "metadata": {},
   "source": [
    " 3. Por último al integrar el polinomio cuadrático que interpola a $f$ en $x = a, x$ = $\\displaystyle{a+b\\over2},$ y $x = b$ se obtiene la regla de Simpson con $h = \\displaystyle{b-a\\over2}$\n",
    " $$\n",
    "    \\int_ {a}^{b} f(x) dx \\approx \\int_ {a}^{b} p_2(x) dx = \\displaystyle{h\\over3}(f(a) + 4f(a + b) + f(b)) = S(f)\n",
    "$$\n",
    " El erro que se comete al usar Simpson es \n",
    "$$\n",
    "\\int_ {a}^{b} f(x) dx - S(f) = \\displaystyle{h^5\\over90}(f^{(4)}(n)), a<n<b\n",
    "$$"
   ]
  },
  {
   "cell_type": "markdown",
   "metadata": {},
   "source": [
    "#### <font color='green'> Estudiante 1"
   ]
  },
  {
   "cell_type": "code",
   "execution_count": 1,
   "metadata": {},
   "outputs": [
    {
     "name": "stdout",
     "output_type": "stream",
     "text": [
      "1\n",
      "2\n",
      "3\n",
      "5\n",
      "8\n",
      "13\n",
      "21\n",
      "34\n",
      "55\n",
      "89\n",
      "144\n",
      "233\n",
      "377\n",
      "610\n",
      "987\n",
      "1597\n",
      "2584\n",
      "4181\n",
      "6765\n",
      "10946\n",
      "17711\n",
      "28657\n",
      "46368\n",
      "75025\n",
      "121393\n",
      "196418\n",
      "317811\n",
      "514229\n",
      "832040\n",
      "1346269\n",
      "2178309\n",
      "3524578\n",
      "5702887\n",
      "9227465\n",
      "14930352\n",
      "24157817\n",
      "39088169\n",
      "63245986\n",
      "102334155\n",
      "165580141\n",
      "267914296\n",
      "433494437\n",
      "701408733\n",
      "1134903170\n",
      "1836311903\n",
      "2971215073\n",
      "4807526976\n",
      "7778742049\n",
      "12586269025\n",
      "20365011074\n",
      "32951280099\n",
      "53316291173\n",
      "86267571272\n",
      "139583862445\n",
      "225851433717\n",
      "365435296162\n",
      "591286729879\n",
      "956722026041\n",
      "1548008755920\n",
      "2504730781961\n",
      "4052739537881\n",
      "6557470319842\n",
      "10610209857723\n",
      "17167680177565\n",
      "27777890035288\n",
      "44945570212853\n",
      "72723460248141\n",
      "117669030460994\n",
      "190392490709135\n",
      "308061521170129\n",
      "498454011879264\n",
      "806515533049393\n",
      "1304969544928657\n",
      "2111485077978050\n",
      "3416454622906707\n",
      "5527939700884757\n",
      "8944394323791464\n",
      "14472334024676221\n",
      "23416728348467685\n",
      "37889062373143906\n",
      "61305790721611591\n",
      "99194853094755497\n",
      "160500643816367088\n",
      "259695496911122585\n",
      "420196140727489673\n",
      "679891637638612258\n",
      "1100087778366101931\n",
      "1779979416004714189\n",
      "2880067194370816120\n",
      "4660046610375530309\n",
      "7540113804746346429\n",
      "12200160415121876738\n",
      "19740274219868223167\n",
      "31940434634990099905\n",
      "51680708854858323072\n",
      "83621143489848422977\n",
      "135301852344706746049\n",
      "218922995834555169026\n",
      "354224848179261915075\n",
      "573147844013817084101\n"
     ]
    }
   ],
   "source": [
    "# Sucesión de fibonacci 100 términos\n",
    "a,b = 0,1\n",
    "for i in range(100):\n",
    "    print(a+b)\n",
    "    a,b = b, a+b"
   ]
  },
  {
   "cell_type": "markdown",
   "metadata": {},
   "source": [
    "#### <font color='green'> Estudiante 2"
   ]
  },
  {
   "cell_type": "code",
   "execution_count": 2,
   "metadata": {},
   "outputs": [
    {
     "name": "stdout",
     "output_type": "stream",
     "text": [
      "[2, 3, 5, 7, 11, 13, 17, 19, 23, 29, 31, 37, 41, 43, 47, 53, 59, 61, 67, 71, 73, 79, 83, 89, 97]\n"
     ]
    }
   ],
   "source": [
    "#Programa de los primeros 100 numeros primos \n",
    "n = 100\n",
    "p = [2] + [x for x in range(3, n+1, 2) \n",
    "           if not [y for y in range(3, int(x**0.5)+1, 2) \n",
    "           if (float(x) / y).is_integer()]]\n",
    "print(p)"
   ]
  },
  {
   "cell_type": "code",
   "execution_count": null,
   "metadata": {},
   "outputs": [],
   "source": []
  }
 ],
 "metadata": {
  "kernelspec": {
   "display_name": "Python 3",
   "language": "python",
   "name": "python3"
  },
  "language_info": {
   "codemirror_mode": {
    "name": "ipython",
    "version": 3
   },
   "file_extension": ".py",
   "mimetype": "text/x-python",
   "name": "python",
   "nbconvert_exporter": "python",
   "pygments_lexer": "ipython3",
   "version": "3.7.4"
  }
 },
 "nbformat": 4,
 "nbformat_minor": 2
}
